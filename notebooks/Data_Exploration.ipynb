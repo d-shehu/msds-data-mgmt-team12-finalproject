{
 "cells": [
  {
   "cell_type": "code",
   "execution_count": 1,
   "metadata": {},
   "outputs": [],
   "source": [
    "import json\n",
    "import pandas as pd\n",
    "import numpy as np"
   ]
  },
  {
   "cell_type": "markdown",
   "metadata": {},
   "source": [
    "The following piece of code is used for storing the data in a dataframe"
   ]
  },
  {
   "cell_type": "code",
   "execution_count": 2,
   "metadata": {},
   "outputs": [],
   "source": [
    "df = pd.DataFrame()\n",
    "store = list()\n",
    "with open(\"corona-out-2\", \"r\") as f1:\n",
    "    for line in f1:\n",
    "        try:\n",
    "            data = json.loads(line)\n",
    "            store.append(data)\n",
    "\n",
    "        except:\n",
    "            continue"
   ]
  },
  {
   "cell_type": "code",
   "execution_count": 3,
   "metadata": {},
   "outputs": [],
   "source": [
    "df = pd.DataFrame(store, columns = data.keys())"
   ]
  },
  {
   "cell_type": "markdown",
   "metadata": {},
   "source": [
    "Info prints out the count stats of all the fields"
   ]
  },
  {
   "cell_type": "code",
   "execution_count": 4,
   "metadata": {
    "scrolled": false
   },
   "outputs": [
    {
     "name": "stdout",
     "output_type": "stream",
     "text": [
      "<class 'pandas.core.frame.DataFrame'>\n",
      "RangeIndex: 18518 entries, 0 to 18517\n",
      "Data columns (total 29 columns):\n",
      " #   Column                     Non-Null Count  Dtype  \n",
      "---  ------                     --------------  -----  \n",
      " 0   created_at                 18518 non-null  object \n",
      " 1   id                         18518 non-null  int64  \n",
      " 2   id_str                     18518 non-null  object \n",
      " 3   text                       18518 non-null  object \n",
      " 4   source                     18518 non-null  object \n",
      " 5   truncated                  18518 non-null  bool   \n",
      " 6   in_reply_to_status_id      2528 non-null   float64\n",
      " 7   in_reply_to_status_id_str  2528 non-null   object \n",
      " 8   in_reply_to_user_id        2734 non-null   float64\n",
      " 9   in_reply_to_user_id_str    2734 non-null   object \n",
      " 10  in_reply_to_screen_name    2734 non-null   object \n",
      " 11  user                       18518 non-null  object \n",
      " 12  geo                        13 non-null     object \n",
      " 13  coordinates                13 non-null     object \n",
      " 14  place                      273 non-null    object \n",
      " 15  contributors               0 non-null      object \n",
      " 16  retweeted_status           11159 non-null  object \n",
      " 17  is_quote_status            18518 non-null  bool   \n",
      " 18  quote_count                18518 non-null  int64  \n",
      " 19  reply_count                18518 non-null  int64  \n",
      " 20  retweet_count              18518 non-null  int64  \n",
      " 21  favorite_count             18518 non-null  int64  \n",
      " 22  entities                   18518 non-null  object \n",
      " 23  favorited                  18518 non-null  bool   \n",
      " 24  retweeted                  18518 non-null  bool   \n",
      " 25  possibly_sensitive         3449 non-null   object \n",
      " 26  filter_level               18518 non-null  object \n",
      " 27  lang                       18518 non-null  object \n",
      " 28  timestamp_ms               18518 non-null  object \n",
      "dtypes: bool(4), float64(2), int64(5), object(18)\n",
      "memory usage: 3.6+ MB\n"
     ]
    }
   ],
   "source": [
    "df.info()"
   ]
  },
  {
   "cell_type": "code",
   "execution_count": 6,
   "metadata": {},
   "outputs": [
    {
     "data": {
      "text/plain": [
       "{'created_at': 'Sun Apr 12 18:47:53 +0000 2020',\n",
       " 'id': 1249408918196871168,\n",
       " 'id_str': '1249408918196871168',\n",
       " 'text': 'RT @liputan6dotcom: Lagi, 2 Dokter Senior Meninggal karena Corona Covid-19 https://t.co/eDbMsxFA84',\n",
       " 'source': '<a href=\"http://twitter.com/download/android\" rel=\"nofollow\">Twitter for Android</a>',\n",
       " 'truncated': False,\n",
       " 'in_reply_to_status_id': None,\n",
       " 'in_reply_to_status_id_str': None,\n",
       " 'in_reply_to_user_id': None,\n",
       " 'in_reply_to_user_id_str': None,\n",
       " 'in_reply_to_screen_name': None,\n",
       " 'user': {'id': 2283278160,\n",
       "  'id_str': '2283278160',\n",
       "  'name': 'Mr rius',\n",
       "  'screen_name': 'AwhexWibowo',\n",
       "  'location': 'Yogyakarta, Indonesia',\n",
       "  'url': None,\n",
       "  'description': 'have fun go mad',\n",
       "  'translator_type': 'none',\n",
       "  'protected': False,\n",
       "  'verified': False,\n",
       "  'followers_count': 451,\n",
       "  'friends_count': 608,\n",
       "  'listed_count': 2,\n",
       "  'favourites_count': 4625,\n",
       "  'statuses_count': 31160,\n",
       "  'created_at': 'Thu Jan 09 08:34:03 +0000 2014',\n",
       "  'utc_offset': None,\n",
       "  'time_zone': None,\n",
       "  'geo_enabled': True,\n",
       "  'lang': None,\n",
       "  'contributors_enabled': False,\n",
       "  'is_translator': False,\n",
       "  'profile_background_color': 'C0DEED',\n",
       "  'profile_background_image_url': 'http://abs.twimg.com/images/themes/theme1/bg.png',\n",
       "  'profile_background_image_url_https': 'https://abs.twimg.com/images/themes/theme1/bg.png',\n",
       "  'profile_background_tile': False,\n",
       "  'profile_link_color': '1DA1F2',\n",
       "  'profile_sidebar_border_color': 'C0DEED',\n",
       "  'profile_sidebar_fill_color': 'DDEEF6',\n",
       "  'profile_text_color': '333333',\n",
       "  'profile_use_background_image': True,\n",
       "  'profile_image_url': 'http://pbs.twimg.com/profile_images/1045333930910482432/9T4eZEsi_normal.jpg',\n",
       "  'profile_image_url_https': 'https://pbs.twimg.com/profile_images/1045333930910482432/9T4eZEsi_normal.jpg',\n",
       "  'profile_banner_url': 'https://pbs.twimg.com/profile_banners/2283278160/1585672135',\n",
       "  'default_profile': True,\n",
       "  'default_profile_image': False,\n",
       "  'following': None,\n",
       "  'follow_request_sent': None,\n",
       "  'notifications': None},\n",
       " 'geo': None,\n",
       " 'coordinates': None,\n",
       " 'place': None,\n",
       " 'contributors': None,\n",
       " 'retweeted_status': {'created_at': 'Sun Apr 12 17:22:04 +0000 2020',\n",
       "  'id': 1249387319229988865,\n",
       "  'id_str': '1249387319229988865',\n",
       "  'text': 'Lagi, 2 Dokter Senior Meninggal karena Corona Covid-19 https://t.co/eDbMsxFA84',\n",
       "  'source': '<a href=\"https://dlvrit.com/\" rel=\"nofollow\">dlvr.it</a>',\n",
       "  'truncated': False,\n",
       "  'in_reply_to_status_id': None,\n",
       "  'in_reply_to_status_id_str': None,\n",
       "  'in_reply_to_user_id': None,\n",
       "  'in_reply_to_user_id_str': None,\n",
       "  'in_reply_to_screen_name': None,\n",
       "  'user': {'id': 47596019,\n",
       "   'id_str': '47596019',\n",
       "   'name': 'Liputan6.com',\n",
       "   'screen_name': 'liputan6dotcom',\n",
       "   'location': 'Jakarta Indonesia',\n",
       "   'url': None,\n",
       "   'description': 'Download Apps https://t.co/Tg70sLl3Dc di sini https://t.co/DkBRaoqgmX \\nWebsite : https://t.co/Tg70sLl3Dc                                   \\nContact us: Liputan6Socmed@gmail.com',\n",
       "   'translator_type': 'regular',\n",
       "   'protected': False,\n",
       "   'verified': True,\n",
       "   'followers_count': 3675977,\n",
       "   'friends_count': 693,\n",
       "   'listed_count': 4806,\n",
       "   'favourites_count': 7055,\n",
       "   'statuses_count': 1375342,\n",
       "   'created_at': 'Tue Jun 16 10:48:24 +0000 2009',\n",
       "   'utc_offset': None,\n",
       "   'time_zone': None,\n",
       "   'geo_enabled': True,\n",
       "   'lang': None,\n",
       "   'contributors_enabled': False,\n",
       "   'is_translator': False,\n",
       "   'profile_background_color': 'E88317',\n",
       "   'profile_background_image_url': 'http://abs.twimg.com/images/themes/theme16/bg.gif',\n",
       "   'profile_background_image_url_https': 'https://abs.twimg.com/images/themes/theme16/bg.gif',\n",
       "   'profile_background_tile': False,\n",
       "   'profile_link_color': 'E88317',\n",
       "   'profile_sidebar_border_color': 'FFFFFF',\n",
       "   'profile_sidebar_fill_color': 'F05A31',\n",
       "   'profile_text_color': '0099CC',\n",
       "   'profile_use_background_image': False,\n",
       "   'profile_image_url': 'http://pbs.twimg.com/profile_images/1196221192916439041/SuL7oIar_normal.jpg',\n",
       "   'profile_image_url_https': 'https://pbs.twimg.com/profile_images/1196221192916439041/SuL7oIar_normal.jpg',\n",
       "   'profile_banner_url': 'https://pbs.twimg.com/profile_banners/47596019/1585833284',\n",
       "   'default_profile': False,\n",
       "   'default_profile_image': False,\n",
       "   'following': None,\n",
       "   'follow_request_sent': None,\n",
       "   'notifications': None},\n",
       "  'geo': None,\n",
       "  'coordinates': None,\n",
       "  'place': None,\n",
       "  'contributors': None,\n",
       "  'is_quote_status': False,\n",
       "  'quote_count': 7,\n",
       "  'reply_count': 12,\n",
       "  'retweet_count': 86,\n",
       "  'favorite_count': 108,\n",
       "  'entities': {'hashtags': [],\n",
       "   'urls': [{'url': 'https://t.co/eDbMsxFA84',\n",
       "     'expanded_url': 'http://dlvr.it/RTf5SD',\n",
       "     'display_url': 'dlvr.it/RTf5SD',\n",
       "     'indices': [55, 78]}],\n",
       "   'user_mentions': [],\n",
       "   'symbols': []},\n",
       "  'favorited': False,\n",
       "  'retweeted': False,\n",
       "  'possibly_sensitive': False,\n",
       "  'filter_level': 'low',\n",
       "  'lang': 'in'},\n",
       " 'is_quote_status': False,\n",
       " 'quote_count': 0,\n",
       " 'reply_count': 0,\n",
       " 'retweet_count': 0,\n",
       " 'favorite_count': 0,\n",
       " 'entities': {'hashtags': [],\n",
       "  'urls': [{'url': 'https://t.co/eDbMsxFA84',\n",
       "    'expanded_url': 'http://dlvr.it/RTf5SD',\n",
       "    'display_url': 'dlvr.it/RTf5SD',\n",
       "    'indices': [75, 98]}],\n",
       "  'user_mentions': [{'screen_name': 'liputan6dotcom',\n",
       "    'name': 'Liputan6.com',\n",
       "    'id': 47596019,\n",
       "    'id_str': '47596019',\n",
       "    'indices': [3, 18]}],\n",
       "  'symbols': []},\n",
       " 'favorited': False,\n",
       " 'retweeted': False,\n",
       " 'possibly_sensitive': False,\n",
       " 'filter_level': 'low',\n",
       " 'lang': 'in',\n",
       " 'timestamp_ms': '1586717273650'}"
      ]
     },
     "execution_count": 6,
     "metadata": {},
     "output_type": "execute_result"
    }
   ],
   "source": [
    "data"
   ]
  },
  {
   "cell_type": "code",
   "execution_count": 27,
   "metadata": {},
   "outputs": [],
   "source": [
    "user_df = pd.DataFrame(columns = (df['user'][0]).keys())"
   ]
  },
  {
   "cell_type": "code",
   "execution_count": 28,
   "metadata": {},
   "outputs": [],
   "source": [
    "for i in range(df.shape[0]):\n",
    "    user_df.loc[i] = df['user'][i]"
   ]
  },
  {
   "cell_type": "code",
   "execution_count": 30,
   "metadata": {
    "collapsed": true
   },
   "outputs": [
    {
     "name": "stdout",
     "output_type": "stream",
     "text": [
      "<class 'pandas.core.frame.DataFrame'>\n",
      "Int64Index: 18518 entries, 0 to 18517\n",
      "Data columns (total 39 columns):\n",
      " #   Column                              Non-Null Count  Dtype \n",
      "---  ------                              --------------  ----- \n",
      " 0   id                                  18518 non-null  int64 \n",
      " 1   id_str                              18518 non-null  object\n",
      " 2   name                                18518 non-null  object\n",
      " 3   screen_name                         18518 non-null  object\n",
      " 4   location                            11456 non-null  object\n",
      " 5   url                                 3974 non-null   object\n",
      " 6   description                         14608 non-null  object\n",
      " 7   translator_type                     18518 non-null  object\n",
      " 8   protected                           18518 non-null  bool  \n",
      " 9   verified                            18518 non-null  bool  \n",
      " 10  followers_count                     18518 non-null  int64 \n",
      " 11  friends_count                       18518 non-null  int64 \n",
      " 12  listed_count                        18518 non-null  int64 \n",
      " 13  favourites_count                    18518 non-null  int64 \n",
      " 14  statuses_count                      18518 non-null  int64 \n",
      " 15  created_at                          18518 non-null  object\n",
      " 16  utc_offset                          0 non-null      object\n",
      " 17  time_zone                           0 non-null      object\n",
      " 18  geo_enabled                         18518 non-null  bool  \n",
      " 19  lang                                0 non-null      object\n",
      " 20  contributors_enabled                18518 non-null  bool  \n",
      " 21  is_translator                       18518 non-null  bool  \n",
      " 22  profile_background_color            18518 non-null  object\n",
      " 23  profile_background_image_url        18518 non-null  object\n",
      " 24  profile_background_image_url_https  18518 non-null  object\n",
      " 25  profile_background_tile             18518 non-null  bool  \n",
      " 26  profile_link_color                  18518 non-null  object\n",
      " 27  profile_sidebar_border_color        18518 non-null  object\n",
      " 28  profile_sidebar_fill_color          18518 non-null  object\n",
      " 29  profile_text_color                  18518 non-null  object\n",
      " 30  profile_use_background_image        18518 non-null  bool  \n",
      " 31  profile_image_url                   18518 non-null  object\n",
      " 32  profile_image_url_https             18518 non-null  object\n",
      " 33  profile_banner_url                  14012 non-null  object\n",
      " 34  default_profile                     18518 non-null  bool  \n",
      " 35  default_profile_image               18518 non-null  bool  \n",
      " 36  following                           0 non-null      object\n",
      " 37  follow_request_sent                 0 non-null      object\n",
      " 38  notifications                       0 non-null      object\n",
      "dtypes: bool(9), int64(6), object(24)\n",
      "memory usage: 4.5+ MB\n"
     ]
    }
   ],
   "source": [
    "user_df.info()"
   ]
  },
  {
   "cell_type": "markdown",
   "metadata": {},
   "source": [
    "Geo and coordinates are the same"
   ]
  },
  {
   "cell_type": "code",
   "execution_count": 42,
   "metadata": {},
   "outputs": [],
   "source": [
    "geo_df = pd.DataFrame(columns = (df['geo'][51]).keys())\n",
    "for index, i in enumerate(df[df['geo'].notna()].index) :\n",
    "    geo_df.loc[index] = df['geo'][i]"
   ]
  },
  {
   "cell_type": "code",
   "execution_count": 43,
   "metadata": {
    "scrolled": true
   },
   "outputs": [
    {
     "data": {
      "text/html": [
       "<div>\n",
       "<style scoped>\n",
       "    .dataframe tbody tr th:only-of-type {\n",
       "        vertical-align: middle;\n",
       "    }\n",
       "\n",
       "    .dataframe tbody tr th {\n",
       "        vertical-align: top;\n",
       "    }\n",
       "\n",
       "    .dataframe thead th {\n",
       "        text-align: right;\n",
       "    }\n",
       "</style>\n",
       "<table border=\"1\" class=\"dataframe\">\n",
       "  <thead>\n",
       "    <tr style=\"text-align: right;\">\n",
       "      <th></th>\n",
       "      <th>type</th>\n",
       "      <th>coordinates</th>\n",
       "    </tr>\n",
       "  </thead>\n",
       "  <tbody>\n",
       "    <tr>\n",
       "      <th>0</th>\n",
       "      <td>Point</td>\n",
       "      <td>[31.5497, 74.3436]</td>\n",
       "    </tr>\n",
       "    <tr>\n",
       "      <th>1</th>\n",
       "      <td>Point</td>\n",
       "      <td>[1.4775, 103.63953056]</td>\n",
       "    </tr>\n",
       "    <tr>\n",
       "      <th>2</th>\n",
       "      <td>Point</td>\n",
       "      <td>[51.2185, 6.7805]</td>\n",
       "    </tr>\n",
       "    <tr>\n",
       "      <th>3</th>\n",
       "      <td>Point</td>\n",
       "      <td>[52.49394947, 13.29741839]</td>\n",
       "    </tr>\n",
       "    <tr>\n",
       "      <th>4</th>\n",
       "      <td>Point</td>\n",
       "      <td>[-34.6089, -58.4397]</td>\n",
       "    </tr>\n",
       "    <tr>\n",
       "      <th>5</th>\n",
       "      <td>Point</td>\n",
       "      <td>[34.01753693, -117.81113592]</td>\n",
       "    </tr>\n",
       "    <tr>\n",
       "      <th>6</th>\n",
       "      <td>Point</td>\n",
       "      <td>[19.0627, 72.8764]</td>\n",
       "    </tr>\n",
       "    <tr>\n",
       "      <th>7</th>\n",
       "      <td>Point</td>\n",
       "      <td>[-29.96775366, -51.16533794]</td>\n",
       "    </tr>\n",
       "    <tr>\n",
       "      <th>8</th>\n",
       "      <td>Point</td>\n",
       "      <td>[-3.85444444, -40.92111111]</td>\n",
       "    </tr>\n",
       "    <tr>\n",
       "      <th>9</th>\n",
       "      <td>Point</td>\n",
       "      <td>[33.8753, -117.566]</td>\n",
       "    </tr>\n",
       "    <tr>\n",
       "      <th>10</th>\n",
       "      <td>Point</td>\n",
       "      <td>[47.0, -110.0]</td>\n",
       "    </tr>\n",
       "    <tr>\n",
       "      <th>11</th>\n",
       "      <td>Point</td>\n",
       "      <td>[-22.91704538, -43.38647748]</td>\n",
       "    </tr>\n",
       "    <tr>\n",
       "      <th>12</th>\n",
       "      <td>Point</td>\n",
       "      <td>[50.3714, -4.1424]</td>\n",
       "    </tr>\n",
       "  </tbody>\n",
       "</table>\n",
       "</div>"
      ],
      "text/plain": [
       "     type                   coordinates\n",
       "0   Point            [31.5497, 74.3436]\n",
       "1   Point        [1.4775, 103.63953056]\n",
       "2   Point             [51.2185, 6.7805]\n",
       "3   Point    [52.49394947, 13.29741839]\n",
       "4   Point          [-34.6089, -58.4397]\n",
       "5   Point  [34.01753693, -117.81113592]\n",
       "6   Point            [19.0627, 72.8764]\n",
       "7   Point  [-29.96775366, -51.16533794]\n",
       "8   Point   [-3.85444444, -40.92111111]\n",
       "9   Point           [33.8753, -117.566]\n",
       "10  Point                [47.0, -110.0]\n",
       "11  Point  [-22.91704538, -43.38647748]\n",
       "12  Point            [50.3714, -4.1424]"
      ]
     },
     "execution_count": 43,
     "metadata": {},
     "output_type": "execute_result"
    }
   ],
   "source": [
    "geo_df"
   ]
  },
  {
   "cell_type": "code",
   "execution_count": 55,
   "metadata": {},
   "outputs": [],
   "source": [
    "cord_df = pd.DataFrame(columns = (df['coordinates'][51]).keys())\n",
    "for index, i in enumerate(df[df['coordinates'].notna()].index) :\n",
    "    cord_df.loc[index] = df['coordinates'][i]"
   ]
  },
  {
   "cell_type": "code",
   "execution_count": 47,
   "metadata": {},
   "outputs": [
    {
     "data": {
      "text/html": [
       "<div>\n",
       "<style scoped>\n",
       "    .dataframe tbody tr th:only-of-type {\n",
       "        vertical-align: middle;\n",
       "    }\n",
       "\n",
       "    .dataframe tbody tr th {\n",
       "        vertical-align: top;\n",
       "    }\n",
       "\n",
       "    .dataframe thead th {\n",
       "        text-align: right;\n",
       "    }\n",
       "</style>\n",
       "<table border=\"1\" class=\"dataframe\">\n",
       "  <thead>\n",
       "    <tr style=\"text-align: right;\">\n",
       "      <th></th>\n",
       "      <th>type</th>\n",
       "      <th>coordinates</th>\n",
       "    </tr>\n",
       "  </thead>\n",
       "  <tbody>\n",
       "    <tr>\n",
       "      <th>0</th>\n",
       "      <td>Point</td>\n",
       "      <td>[74.3436, 31.5497]</td>\n",
       "    </tr>\n",
       "    <tr>\n",
       "      <th>1</th>\n",
       "      <td>Point</td>\n",
       "      <td>[103.63953056, 1.4775]</td>\n",
       "    </tr>\n",
       "    <tr>\n",
       "      <th>2</th>\n",
       "      <td>Point</td>\n",
       "      <td>[6.7805, 51.2185]</td>\n",
       "    </tr>\n",
       "    <tr>\n",
       "      <th>3</th>\n",
       "      <td>Point</td>\n",
       "      <td>[13.29741839, 52.49394947]</td>\n",
       "    </tr>\n",
       "    <tr>\n",
       "      <th>4</th>\n",
       "      <td>Point</td>\n",
       "      <td>[-58.4397, -34.6089]</td>\n",
       "    </tr>\n",
       "    <tr>\n",
       "      <th>5</th>\n",
       "      <td>Point</td>\n",
       "      <td>[-117.81113592, 34.01753693]</td>\n",
       "    </tr>\n",
       "    <tr>\n",
       "      <th>6</th>\n",
       "      <td>Point</td>\n",
       "      <td>[72.8764, 19.0627]</td>\n",
       "    </tr>\n",
       "    <tr>\n",
       "      <th>7</th>\n",
       "      <td>Point</td>\n",
       "      <td>[-51.16533794, -29.96775366]</td>\n",
       "    </tr>\n",
       "    <tr>\n",
       "      <th>8</th>\n",
       "      <td>Point</td>\n",
       "      <td>[-40.92111111, -3.85444444]</td>\n",
       "    </tr>\n",
       "    <tr>\n",
       "      <th>9</th>\n",
       "      <td>Point</td>\n",
       "      <td>[-117.566, 33.8753]</td>\n",
       "    </tr>\n",
       "    <tr>\n",
       "      <th>10</th>\n",
       "      <td>Point</td>\n",
       "      <td>[-110.0, 47.0]</td>\n",
       "    </tr>\n",
       "    <tr>\n",
       "      <th>11</th>\n",
       "      <td>Point</td>\n",
       "      <td>[-43.38647748, -22.91704538]</td>\n",
       "    </tr>\n",
       "    <tr>\n",
       "      <th>12</th>\n",
       "      <td>Point</td>\n",
       "      <td>[-4.1424, 50.3714]</td>\n",
       "    </tr>\n",
       "  </tbody>\n",
       "</table>\n",
       "</div>"
      ],
      "text/plain": [
       "     type                   coordinates\n",
       "0   Point            [74.3436, 31.5497]\n",
       "1   Point        [103.63953056, 1.4775]\n",
       "2   Point             [6.7805, 51.2185]\n",
       "3   Point    [13.29741839, 52.49394947]\n",
       "4   Point          [-58.4397, -34.6089]\n",
       "5   Point  [-117.81113592, 34.01753693]\n",
       "6   Point            [72.8764, 19.0627]\n",
       "7   Point  [-51.16533794, -29.96775366]\n",
       "8   Point   [-40.92111111, -3.85444444]\n",
       "9   Point           [-117.566, 33.8753]\n",
       "10  Point                [-110.0, 47.0]\n",
       "11  Point  [-43.38647748, -22.91704538]\n",
       "12  Point            [-4.1424, 50.3714]"
      ]
     },
     "execution_count": 47,
     "metadata": {},
     "output_type": "execute_result"
    }
   ],
   "source": [
    "cord_df"
   ]
  },
  {
   "cell_type": "code",
   "execution_count": 56,
   "metadata": {},
   "outputs": [],
   "source": [
    "place_df = pd.DataFrame(columns = (df['place'][51]).keys())\n",
    "for index, i in enumerate(df[df['place'].notna()].index) :\n",
    "    place_df.loc[index] = df['place'][i]"
   ]
  },
  {
   "cell_type": "code",
   "execution_count": 71,
   "metadata": {},
   "outputs": [
    {
     "data": {
      "text/plain": [
       "'https://api.twitter.com/1.1/geo/id/3166615088e5d058.json'"
      ]
     },
     "execution_count": 71,
     "metadata": {},
     "output_type": "execute_result"
    }
   ],
   "source": [
    "place_df['url'][0]"
   ]
  },
  {
   "cell_type": "code",
   "execution_count": 67,
   "metadata": {},
   "outputs": [
    {
     "data": {
      "text/html": [
       "<div>\n",
       "<style scoped>\n",
       "    .dataframe tbody tr th:only-of-type {\n",
       "        vertical-align: middle;\n",
       "    }\n",
       "\n",
       "    .dataframe tbody tr th {\n",
       "        vertical-align: top;\n",
       "    }\n",
       "\n",
       "    .dataframe thead th {\n",
       "        text-align: right;\n",
       "    }\n",
       "</style>\n",
       "<table border=\"1\" class=\"dataframe\">\n",
       "  <thead>\n",
       "    <tr style=\"text-align: right;\">\n",
       "      <th></th>\n",
       "      <th>id</th>\n",
       "      <th>url</th>\n",
       "      <th>place_type</th>\n",
       "      <th>name</th>\n",
       "      <th>full_name</th>\n",
       "      <th>country_code</th>\n",
       "      <th>country</th>\n",
       "      <th>bounding_box</th>\n",
       "      <th>attributes</th>\n",
       "    </tr>\n",
       "  </thead>\n",
       "  <tbody>\n",
       "    <tr>\n",
       "      <th>0</th>\n",
       "      <td>3166615088e5d058</td>\n",
       "      <td>https://api.twitter.com/1.1/geo/id/3166615088e...</td>\n",
       "      <td>city</td>\n",
       "      <td>Nilüfer</td>\n",
       "      <td>Nilüfer, Türkiye</td>\n",
       "      <td>TR</td>\n",
       "      <td>Türkiye</td>\n",
       "      <td>{'type': 'Polygon', 'coordinates': [[[28.89592...</td>\n",
       "      <td>{}</td>\n",
       "    </tr>\n",
       "    <tr>\n",
       "      <th>1</th>\n",
       "      <td>0102baa70911fc52</td>\n",
       "      <td>https://api.twitter.com/1.1/geo/id/0102baa7091...</td>\n",
       "      <td>city</td>\n",
       "      <td>Katsina</td>\n",
       "      <td>Katsina, Nigeria</td>\n",
       "      <td>NG</td>\n",
       "      <td>Nigeria</td>\n",
       "      <td>{'type': 'Polygon', 'coordinates': [[[7.572255...</td>\n",
       "      <td>{}</td>\n",
       "    </tr>\n",
       "    <tr>\n",
       "      <th>2</th>\n",
       "      <td>003d5766281b4194</td>\n",
       "      <td>https://api.twitter.com/1.1/geo/id/003d5766281...</td>\n",
       "      <td>city</td>\n",
       "      <td>Lahore</td>\n",
       "      <td>Lahore, Pakistan</td>\n",
       "      <td>PK</td>\n",
       "      <td>Pakistan</td>\n",
       "      <td>{'type': 'Polygon', 'coordinates': [[[74.26758...</td>\n",
       "      <td>{}</td>\n",
       "    </tr>\n",
       "    <tr>\n",
       "      <th>3</th>\n",
       "      <td>6cf201f76d55b4c9</td>\n",
       "      <td>https://api.twitter.com/1.1/geo/id/6cf201f76d5...</td>\n",
       "      <td>city</td>\n",
       "      <td>Newbury</td>\n",
       "      <td>Newbury, England</td>\n",
       "      <td>GB</td>\n",
       "      <td>United Kingdom</td>\n",
       "      <td>{'type': 'Polygon', 'coordinates': [[[-1.35529...</td>\n",
       "      <td>{}</td>\n",
       "    </tr>\n",
       "    <tr>\n",
       "      <th>4</th>\n",
       "      <td>c802a7998015a1ed</td>\n",
       "      <td>https://api.twitter.com/1.1/geo/id/c802a799801...</td>\n",
       "      <td>city</td>\n",
       "      <td>Ciomas</td>\n",
       "      <td>Ciomas, Indonesia</td>\n",
       "      <td>ID</td>\n",
       "      <td>Indonesia</td>\n",
       "      <td>{'type': 'Polygon', 'coordinates': [[[106.7183...</td>\n",
       "      <td>{}</td>\n",
       "    </tr>\n",
       "    <tr>\n",
       "      <th>...</th>\n",
       "      <td>...</td>\n",
       "      <td>...</td>\n",
       "      <td>...</td>\n",
       "      <td>...</td>\n",
       "      <td>...</td>\n",
       "      <td>...</td>\n",
       "      <td>...</td>\n",
       "      <td>...</td>\n",
       "      <td>...</td>\n",
       "    </tr>\n",
       "    <tr>\n",
       "      <th>268</th>\n",
       "      <td>79748d4d83ee9513</td>\n",
       "      <td>https://api.twitter.com/1.1/geo/id/79748d4d83e...</td>\n",
       "      <td>city</td>\n",
       "      <td>Rättvik</td>\n",
       "      <td>Rättvik, Sverige</td>\n",
       "      <td>SE</td>\n",
       "      <td>Sverige</td>\n",
       "      <td>{'type': 'Polygon', 'coordinates': [[[14.87097...</td>\n",
       "      <td>{}</td>\n",
       "    </tr>\n",
       "    <tr>\n",
       "      <th>269</th>\n",
       "      <td>2e6064382c71b343</td>\n",
       "      <td>https://api.twitter.com/1.1/geo/id/2e6064382c7...</td>\n",
       "      <td>city</td>\n",
       "      <td>Noida</td>\n",
       "      <td>Noida, India</td>\n",
       "      <td>IN</td>\n",
       "      <td>India</td>\n",
       "      <td>{'type': 'Polygon', 'coordinates': [[[77.30212...</td>\n",
       "      <td>{}</td>\n",
       "    </tr>\n",
       "    <tr>\n",
       "      <th>270</th>\n",
       "      <td>a592bd6ceb1319f7</td>\n",
       "      <td>https://api.twitter.com/1.1/geo/id/a592bd6ceb1...</td>\n",
       "      <td>city</td>\n",
       "      <td>San Diego</td>\n",
       "      <td>San Diego, CA</td>\n",
       "      <td>US</td>\n",
       "      <td>United States</td>\n",
       "      <td>{'type': 'Polygon', 'coordinates': [[[-117.282...</td>\n",
       "      <td>{}</td>\n",
       "    </tr>\n",
       "    <tr>\n",
       "      <th>271</th>\n",
       "      <td>01e5da1b2875d48f</td>\n",
       "      <td>https://api.twitter.com/1.1/geo/id/01e5da1b287...</td>\n",
       "      <td>city</td>\n",
       "      <td>Wesley Chapel</td>\n",
       "      <td>Wesley Chapel, NC</td>\n",
       "      <td>US</td>\n",
       "      <td>United States</td>\n",
       "      <td>{'type': 'Polygon', 'coordinates': [[[-80.7084...</td>\n",
       "      <td>{}</td>\n",
       "    </tr>\n",
       "    <tr>\n",
       "      <th>272</th>\n",
       "      <td>173c2bb9d42baaa5</td>\n",
       "      <td>https://api.twitter.com/1.1/geo/id/173c2bb9d42...</td>\n",
       "      <td>country</td>\n",
       "      <td>Sri Lanka</td>\n",
       "      <td>Sri Lanka</td>\n",
       "      <td>LK</td>\n",
       "      <td>Sri Lanka</td>\n",
       "      <td>{'type': 'Polygon', 'coordinates': [[[79.65052...</td>\n",
       "      <td>{}</td>\n",
       "    </tr>\n",
       "  </tbody>\n",
       "</table>\n",
       "<p>273 rows × 9 columns</p>\n",
       "</div>"
      ],
      "text/plain": [
       "                   id                                                url  \\\n",
       "0    3166615088e5d058  https://api.twitter.com/1.1/geo/id/3166615088e...   \n",
       "1    0102baa70911fc52  https://api.twitter.com/1.1/geo/id/0102baa7091...   \n",
       "2    003d5766281b4194  https://api.twitter.com/1.1/geo/id/003d5766281...   \n",
       "3    6cf201f76d55b4c9  https://api.twitter.com/1.1/geo/id/6cf201f76d5...   \n",
       "4    c802a7998015a1ed  https://api.twitter.com/1.1/geo/id/c802a799801...   \n",
       "..                ...                                                ...   \n",
       "268  79748d4d83ee9513  https://api.twitter.com/1.1/geo/id/79748d4d83e...   \n",
       "269  2e6064382c71b343  https://api.twitter.com/1.1/geo/id/2e6064382c7...   \n",
       "270  a592bd6ceb1319f7  https://api.twitter.com/1.1/geo/id/a592bd6ceb1...   \n",
       "271  01e5da1b2875d48f  https://api.twitter.com/1.1/geo/id/01e5da1b287...   \n",
       "272  173c2bb9d42baaa5  https://api.twitter.com/1.1/geo/id/173c2bb9d42...   \n",
       "\n",
       "    place_type           name          full_name country_code         country  \\\n",
       "0         city        Nilüfer   Nilüfer, Türkiye           TR         Türkiye   \n",
       "1         city        Katsina   Katsina, Nigeria           NG         Nigeria   \n",
       "2         city         Lahore   Lahore, Pakistan           PK        Pakistan   \n",
       "3         city        Newbury   Newbury, England           GB  United Kingdom   \n",
       "4         city         Ciomas  Ciomas, Indonesia           ID       Indonesia   \n",
       "..         ...            ...                ...          ...             ...   \n",
       "268       city        Rättvik   Rättvik, Sverige           SE         Sverige   \n",
       "269       city          Noida       Noida, India           IN           India   \n",
       "270       city      San Diego      San Diego, CA           US   United States   \n",
       "271       city  Wesley Chapel  Wesley Chapel, NC           US   United States   \n",
       "272    country      Sri Lanka          Sri Lanka           LK       Sri Lanka   \n",
       "\n",
       "                                          bounding_box attributes  \n",
       "0    {'type': 'Polygon', 'coordinates': [[[28.89592...         {}  \n",
       "1    {'type': 'Polygon', 'coordinates': [[[7.572255...         {}  \n",
       "2    {'type': 'Polygon', 'coordinates': [[[74.26758...         {}  \n",
       "3    {'type': 'Polygon', 'coordinates': [[[-1.35529...         {}  \n",
       "4    {'type': 'Polygon', 'coordinates': [[[106.7183...         {}  \n",
       "..                                                 ...        ...  \n",
       "268  {'type': 'Polygon', 'coordinates': [[[14.87097...         {}  \n",
       "269  {'type': 'Polygon', 'coordinates': [[[77.30212...         {}  \n",
       "270  {'type': 'Polygon', 'coordinates': [[[-117.282...         {}  \n",
       "271  {'type': 'Polygon', 'coordinates': [[[-80.7084...         {}  \n",
       "272  {'type': 'Polygon', 'coordinates': [[[79.65052...         {}  \n",
       "\n",
       "[273 rows x 9 columns]"
      ]
     },
     "execution_count": 67,
     "metadata": {},
     "output_type": "execute_result"
    }
   ],
   "source": [
    "place_df  #most likely to do with location from where tweet was sent?\n",
    "#relevant attributes: id, name, country code"
   ]
  },
  {
   "cell_type": "code",
   "execution_count": 66,
   "metadata": {
    "scrolled": true
   },
   "outputs": [
    {
     "data": {
      "text/html": [
       "<div>\n",
       "<style scoped>\n",
       "    .dataframe tbody tr th:only-of-type {\n",
       "        vertical-align: middle;\n",
       "    }\n",
       "\n",
       "    .dataframe tbody tr th {\n",
       "        vertical-align: top;\n",
       "    }\n",
       "\n",
       "    .dataframe thead th {\n",
       "        text-align: right;\n",
       "    }\n",
       "</style>\n",
       "<table border=\"1\" class=\"dataframe\">\n",
       "  <thead>\n",
       "    <tr style=\"text-align: right;\">\n",
       "      <th></th>\n",
       "      <th>id</th>\n",
       "      <th>id_str</th>\n",
       "      <th>name</th>\n",
       "      <th>screen_name</th>\n",
       "      <th>location</th>\n",
       "      <th>url</th>\n",
       "      <th>description</th>\n",
       "      <th>translator_type</th>\n",
       "      <th>protected</th>\n",
       "      <th>verified</th>\n",
       "      <th>...</th>\n",
       "      <th>profile_text_color</th>\n",
       "      <th>profile_use_background_image</th>\n",
       "      <th>profile_image_url</th>\n",
       "      <th>profile_image_url_https</th>\n",
       "      <th>profile_banner_url</th>\n",
       "      <th>default_profile</th>\n",
       "      <th>default_profile_image</th>\n",
       "      <th>following</th>\n",
       "      <th>follow_request_sent</th>\n",
       "      <th>notifications</th>\n",
       "    </tr>\n",
       "  </thead>\n",
       "  <tbody>\n",
       "  </tbody>\n",
       "</table>\n",
       "<p>0 rows × 39 columns</p>\n",
       "</div>"
      ],
      "text/plain": [
       "Empty DataFrame\n",
       "Columns: [id, id_str, name, screen_name, location, url, description, translator_type, protected, verified, followers_count, friends_count, listed_count, favourites_count, statuses_count, created_at, utc_offset, time_zone, geo_enabled, lang, contributors_enabled, is_translator, profile_background_color, profile_background_image_url, profile_background_image_url_https, profile_background_tile, profile_link_color, profile_sidebar_border_color, profile_sidebar_fill_color, profile_text_color, profile_use_background_image, profile_image_url, profile_image_url_https, profile_banner_url, default_profile, default_profile_image, following, follow_request_sent, notifications]\n",
       "Index: []\n",
       "\n",
       "[0 rows x 39 columns]"
      ]
     },
     "execution_count": 66,
     "metadata": {},
     "output_type": "execute_result"
    }
   ],
   "source": [
    "user_df[user_df['id']==place_df['id'][0]]  #id must be place specific nothing to do with user"
   ]
  },
  {
   "cell_type": "code",
   "execution_count": 70,
   "metadata": {
    "scrolled": true
   },
   "outputs": [
    {
     "data": {
      "text/plain": [
       "{'id': '3166615088e5d058',\n",
       " 'url': 'https://api.twitter.com/1.1/geo/id/3166615088e5d058.json',\n",
       " 'place_type': 'city',\n",
       " 'name': 'Nilüfer',\n",
       " 'full_name': 'Nilüfer, Türkiye',\n",
       " 'country_code': 'TR',\n",
       " 'country': 'Türkiye',\n",
       " 'bounding_box': {'type': 'Polygon',\n",
       "  'coordinates': [[[28.89592, 40.176966],\n",
       "    [28.89592, 40.27546],\n",
       "    [29.012762, 40.27546],\n",
       "    [29.012762, 40.176966]]]},\n",
       " 'attributes': {}}"
      ]
     },
     "execution_count": 70,
     "metadata": {},
     "output_type": "execute_result"
    }
   ],
   "source": [
    "df['place'][27]"
   ]
  },
  {
   "cell_type": "code",
   "execution_count": 74,
   "metadata": {},
   "outputs": [],
   "source": [
    "rt_df = pd.DataFrame(columns = (df['retweeted_status'][0]).keys())  #doesn't include timestamp\n",
    "for index, i in enumerate(df[df['retweeted_status'].notna()].index) :\n",
    "    rt_df.loc[index] = df['retweeted_status'][i]"
   ]
  },
  {
   "cell_type": "code",
   "execution_count": 166,
   "metadata": {},
   "outputs": [
    {
     "data": {
      "text/plain": [
       "0        False\n",
       "1        False\n",
       "2        False\n",
       "3        False\n",
       "4        False\n",
       "         ...  \n",
       "18513    False\n",
       "18514    False\n",
       "18515    False\n",
       "18516    False\n",
       "18517    False\n",
       "Name: retweeted, Length: 18518, dtype: bool"
      ]
     },
     "execution_count": 166,
     "metadata": {},
     "output_type": "execute_result"
    }
   ],
   "source": [
    "df['retwee']"
   ]
  },
  {
   "cell_type": "code",
   "execution_count": 162,
   "metadata": {},
   "outputs": [
    {
     "data": {
      "text/plain": [
       "0        False\n",
       "1        False\n",
       "2        False\n",
       "3        False\n",
       "4        False\n",
       "         ...  \n",
       "11154    False\n",
       "11155    False\n",
       "11156    False\n",
       "11157    False\n",
       "11158    False\n",
       "Name: retweeted, Length: 11159, dtype: bool"
      ]
     },
     "execution_count": 162,
     "metadata": {},
     "output_type": "execute_result"
    }
   ],
   "source": [
    "rt_df['retweeted'] #cannot retweet a retweet"
   ]
  },
  {
   "cell_type": "code",
   "execution_count": 158,
   "metadata": {},
   "outputs": [
    {
     "data": {
      "text/plain": [
       "0"
      ]
     },
     "execution_count": 158,
     "metadata": {},
     "output_type": "execute_result"
    }
   ],
   "source": [
    "df['quote_count'].sum()#irrelevant"
   ]
  },
  {
   "cell_type": "code",
   "execution_count": 161,
   "metadata": {},
   "outputs": [
    {
     "data": {
      "text/plain": [
       "0"
      ]
     },
     "execution_count": 161,
     "metadata": {},
     "output_type": "execute_result"
    }
   ],
   "source": [
    "sum(df['reply_count']) #irrelevant"
   ]
  },
  {
   "cell_type": "code",
   "execution_count": 84,
   "metadata": {},
   "outputs": [
    {
     "data": {
      "text/plain": [
       "3015"
      ]
     },
     "execution_count": 84,
     "metadata": {},
     "output_type": "execute_result"
    }
   ],
   "source": [
    "df['is_quote_status'].sum() #no clue"
   ]
  },
  {
   "cell_type": "markdown",
   "metadata": {},
   "source": [
    "Entities!"
   ]
  },
  {
   "cell_type": "code",
   "execution_count": 144,
   "metadata": {},
   "outputs": [],
   "source": [
    "ent_df = pd.DataFrame(columns = (df['entities'][51]).keys())\n",
    "for index, i in enumerate(df[df['entities'].notna()].index) :\n",
    "    ent_df.loc[index] = df['entities'][i]"
   ]
  },
  {
   "cell_type": "code",
   "execution_count": 146,
   "metadata": {},
   "outputs": [],
   "source": [
    "for col in (ent_df.columns):\n",
    "    ent_df[col] = [i[0] if len(i)!=0 else np.nan for i in ent_df[col] ]"
   ]
  },
  {
   "cell_type": "code",
   "execution_count": 151,
   "metadata": {
    "scrolled": true
   },
   "outputs": [
    {
     "data": {
      "text/plain": [
       "{'screen_name': 'nuffsaidny',\n",
       " 'name': 'NUFF',\n",
       " 'id': 16144221,\n",
       " 'id_str': '16144221',\n",
       " 'indices': [3, 14]}"
      ]
     },
     "execution_count": 151,
     "metadata": {},
     "output_type": "execute_result"
    }
   ],
   "source": [
    "ent_df['user_mentions'][0]"
   ]
  },
  {
   "cell_type": "code",
   "execution_count": 168,
   "metadata": {},
   "outputs": [
    {
     "data": {
      "text/plain": [
       "{'screen_name': 'nuffsaidny',\n",
       " 'name': 'NUFF',\n",
       " 'id': 16144221,\n",
       " 'id_str': '16144221',\n",
       " 'indices': [3, 14]}"
      ]
     },
     "execution_count": 168,
     "metadata": {},
     "output_type": "execute_result"
    }
   ],
   "source": [
    "ent_df['user_mentions'][0]"
   ]
  },
  {
   "cell_type": "code",
   "execution_count": 155,
   "metadata": {},
   "outputs": [
    {
     "data": {
      "text/plain": [
       "'RT @nuffsaidny: wishing death on people is weirdo behavior.'"
      ]
     },
     "execution_count": 155,
     "metadata": {},
     "output_type": "execute_result"
    }
   ],
   "source": [
    "df['text'][0] #matches any mentions in the tweet"
   ]
  },
  {
   "cell_type": "code",
   "execution_count": 124,
   "metadata": {},
   "outputs": [
    {
     "data": {
      "text/plain": [
       "Index(['in_reply_to_status_id', 'in_reply_to_status_id_str',\n",
       "       'in_reply_to_user_id', 'in_reply_to_user_id_str',\n",
       "       'in_reply_to_screen_name', 'geo', 'coordinates', 'place',\n",
       "       'contributors', 'retweeted_status', 'possibly_sensitive'],\n",
       "      dtype='object')"
      ]
     },
     "execution_count": 124,
     "metadata": {},
     "output_type": "execute_result"
    }
   ],
   "source": [
    "df.columns[df.notna().sum(axis = 0)<18518]  #these may or may not be conditional"
   ]
  },
  {
   "cell_type": "code",
   "execution_count": 128,
   "metadata": {},
   "outputs": [],
   "source": [
    "index = list()\n",
    "for i in range(df.shape[1]):\n",
    "    col = df.iloc[:,i]\n",
    "    if col[col == \"None\"].sum() > 0:\n",
    "        index.append[i]"
   ]
  },
  {
   "cell_type": "code",
   "execution_count": 141,
   "metadata": {
    "scrolled": true
   },
   "outputs": [
    {
     "data": {
      "text/plain": [
       "'RT @biannagolodryga: This image.\\nThis quote.\\n\\n“One of the reasons the pandemic is hitting the country so hard is that no one appears to be…'"
      ]
     },
     "execution_count": 141,
     "metadata": {},
     "output_type": "execute_result"
    }
   ],
   "source": [
    "df['text'][4]"
   ]
  },
  {
   "cell_type": "code",
   "execution_count": 219,
   "metadata": {
    "scrolled": true
   },
   "outputs": [
    {
     "name": "stdout",
     "output_type": "stream",
     "text": [
      "False\n"
     ]
    }
   ],
   "source": [
    "print(df.loc[0]['retweeted_status']['retweeted'])\n",
    "#print(df.loc[0]['retweeted_status']['text'])#missing timestamp and retweet status"
   ]
  },
  {
   "cell_type": "code",
   "execution_count": 221,
   "metadata": {},
   "outputs": [
    {
     "data": {
      "text/plain": [
       "'Indeed, this world is vanity and those who fight and boast about goodies of life have lost a great deal. This Coron… https://t.co/b6bgOGdRGc'"
      ]
     },
     "execution_count": 221,
     "metadata": {},
     "output_type": "execute_result"
    }
   ],
   "source": [
    "df[df['truncated']== True]['text'][18444]"
   ]
  },
  {
   "cell_type": "code",
   "execution_count": 160,
   "metadata": {
    "scrolled": true
   },
   "outputs": [
    {
     "data": {
      "text/plain": [
       "'RT @umesh_agr: Thank You Sir !!\\nReally thankful for encouraging the \\n@BSNL_OR \\n Staff risking their life in maintaining the Telecom Service…'"
      ]
     },
     "execution_count": 160,
     "metadata": {},
     "output_type": "execute_result"
    }
   ],
   "source": [
    "df[df['is_quote_status']== True]['text'][2]"
   ]
  },
  {
   "cell_type": "code",
   "execution_count": 163,
   "metadata": {
    "scrolled": false
   },
   "outputs": [
    {
     "data": {
      "text/html": [
       "<div>\n",
       "<style scoped>\n",
       "    .dataframe tbody tr th:only-of-type {\n",
       "        vertical-align: middle;\n",
       "    }\n",
       "\n",
       "    .dataframe tbody tr th {\n",
       "        vertical-align: top;\n",
       "    }\n",
       "\n",
       "    .dataframe thead th {\n",
       "        text-align: right;\n",
       "    }\n",
       "</style>\n",
       "<table border=\"1\" class=\"dataframe\">\n",
       "  <thead>\n",
       "    <tr style=\"text-align: right;\">\n",
       "      <th></th>\n",
       "      <th>created_at</th>\n",
       "      <th>id</th>\n",
       "      <th>id_str</th>\n",
       "      <th>text</th>\n",
       "      <th>source</th>\n",
       "      <th>truncated</th>\n",
       "      <th>in_reply_to_status_id</th>\n",
       "      <th>in_reply_to_status_id_str</th>\n",
       "      <th>in_reply_to_user_id</th>\n",
       "      <th>in_reply_to_user_id_str</th>\n",
       "      <th>...</th>\n",
       "      <th>reply_count</th>\n",
       "      <th>retweet_count</th>\n",
       "      <th>favorite_count</th>\n",
       "      <th>entities</th>\n",
       "      <th>favorited</th>\n",
       "      <th>retweeted</th>\n",
       "      <th>possibly_sensitive</th>\n",
       "      <th>filter_level</th>\n",
       "      <th>lang</th>\n",
       "      <th>timestamp_ms</th>\n",
       "    </tr>\n",
       "  </thead>\n",
       "  <tbody>\n",
       "  </tbody>\n",
       "</table>\n",
       "<p>0 rows × 29 columns</p>\n",
       "</div>"
      ],
      "text/plain": [
       "Empty DataFrame\n",
       "Columns: [created_at, id, id_str, text, source, truncated, in_reply_to_status_id, in_reply_to_status_id_str, in_reply_to_user_id, in_reply_to_user_id_str, in_reply_to_screen_name, user, geo, coordinates, place, contributors, retweeted_status, is_quote_status, quote_count, reply_count, retweet_count, favorite_count, entities, favorited, retweeted, possibly_sensitive, filter_level, lang, timestamp_ms]\n",
       "Index: []\n",
       "\n",
       "[0 rows x 29 columns]"
      ]
     },
     "execution_count": 163,
     "metadata": {},
     "output_type": "execute_result"
    }
   ],
   "source": [
    "df[df['retweeted']== True]"
   ]
  },
  {
   "cell_type": "code",
   "execution_count": 168,
   "metadata": {
    "scrolled": true
   },
   "outputs": [
    {
     "data": {
      "text/plain": [
       "\"There's No case of corona virus in Anambra, all are lies, the stories they cooked of a man with corona virus escapi… https://t.co/hpMQ6M0Zg2\""
      ]
     },
     "execution_count": 168,
     "metadata": {},
     "output_type": "execute_result"
    }
   ],
   "source": [
    "df[df['possibly_sensitive']== True]['text'][18279]"
   ]
  },
  {
   "cell_type": "code",
   "execution_count": 172,
   "metadata": {},
   "outputs": [
    {
     "data": {
      "text/plain": [
       "array(['low'], dtype=object)"
      ]
     },
     "execution_count": 172,
     "metadata": {},
     "output_type": "execute_result"
    }
   ],
   "source": [
    "pd.unique(df['filter_level'])"
   ]
  },
  {
   "cell_type": "code",
   "execution_count": 156,
   "metadata": {},
   "outputs": [
    {
     "data": {
      "text/html": [
       "<div>\n",
       "<style scoped>\n",
       "    .dataframe tbody tr th:only-of-type {\n",
       "        vertical-align: middle;\n",
       "    }\n",
       "\n",
       "    .dataframe tbody tr th {\n",
       "        vertical-align: top;\n",
       "    }\n",
       "\n",
       "    .dataframe thead th {\n",
       "        text-align: right;\n",
       "    }\n",
       "</style>\n",
       "<table border=\"1\" class=\"dataframe\">\n",
       "  <thead>\n",
       "    <tr style=\"text-align: right;\">\n",
       "      <th></th>\n",
       "      <th>created_at</th>\n",
       "      <th>id</th>\n",
       "      <th>id_str</th>\n",
       "      <th>text</th>\n",
       "      <th>source</th>\n",
       "      <th>truncated</th>\n",
       "      <th>in_reply_to_status_id</th>\n",
       "      <th>in_reply_to_status_id_str</th>\n",
       "      <th>in_reply_to_user_id</th>\n",
       "      <th>in_reply_to_user_id_str</th>\n",
       "      <th>...</th>\n",
       "      <th>reply_count</th>\n",
       "      <th>retweet_count</th>\n",
       "      <th>favorite_count</th>\n",
       "      <th>entities</th>\n",
       "      <th>favorited</th>\n",
       "      <th>retweeted</th>\n",
       "      <th>possibly_sensitive</th>\n",
       "      <th>filter_level</th>\n",
       "      <th>lang</th>\n",
       "      <th>timestamp_ms</th>\n",
       "    </tr>\n",
       "  </thead>\n",
       "  <tbody>\n",
       "    <tr>\n",
       "      <th>1</th>\n",
       "      <td>Sun Apr 12 18:27:25 +0000 2020</td>\n",
       "      <td>1249403768023678982</td>\n",
       "      <td>1249403768023678982</td>\n",
       "      <td>RT @lale_karanfil: In Turkey, there are 300 th...</td>\n",
       "      <td>&lt;a href=\"https://mobile.twitter.com\" rel=\"nofo...</td>\n",
       "      <td>False</td>\n",
       "      <td>NaN</td>\n",
       "      <td>None</td>\n",
       "      <td>NaN</td>\n",
       "      <td>None</td>\n",
       "      <td>...</td>\n",
       "      <td>0</td>\n",
       "      <td>0</td>\n",
       "      <td>0</td>\n",
       "      <td>{'hashtags': [], 'urls': [], 'user_mentions': ...</td>\n",
       "      <td>False</td>\n",
       "      <td>False</td>\n",
       "      <td>NaN</td>\n",
       "      <td>low</td>\n",
       "      <td>en</td>\n",
       "      <td>1586716045753</td>\n",
       "    </tr>\n",
       "    <tr>\n",
       "      <th>2</th>\n",
       "      <td>Sun Apr 12 18:27:26 +0000 2020</td>\n",
       "      <td>1249403769193779202</td>\n",
       "      <td>1249403769193779202</td>\n",
       "      <td>RT @umesh_agr: Thank You Sir !!\\nReally thankf...</td>\n",
       "      <td>&lt;a href=\"http://twitter.com/download/android\" ...</td>\n",
       "      <td>False</td>\n",
       "      <td>NaN</td>\n",
       "      <td>None</td>\n",
       "      <td>NaN</td>\n",
       "      <td>None</td>\n",
       "      <td>...</td>\n",
       "      <td>0</td>\n",
       "      <td>0</td>\n",
       "      <td>0</td>\n",
       "      <td>{'hashtags': [], 'urls': [], 'user_mentions': ...</td>\n",
       "      <td>False</td>\n",
       "      <td>False</td>\n",
       "      <td>NaN</td>\n",
       "      <td>low</td>\n",
       "      <td>en</td>\n",
       "      <td>1586716046032</td>\n",
       "    </tr>\n",
       "    <tr>\n",
       "      <th>3</th>\n",
       "      <td>Sun Apr 12 18:27:26 +0000 2020</td>\n",
       "      <td>1249403769567227906</td>\n",
       "      <td>1249403769567227906</td>\n",
       "      <td>RT @meysimek: Turkey is so stubborn to change ...</td>\n",
       "      <td>&lt;a href=\"http://twitter.com/download/android\" ...</td>\n",
       "      <td>False</td>\n",
       "      <td>NaN</td>\n",
       "      <td>None</td>\n",
       "      <td>NaN</td>\n",
       "      <td>None</td>\n",
       "      <td>...</td>\n",
       "      <td>0</td>\n",
       "      <td>0</td>\n",
       "      <td>0</td>\n",
       "      <td>{'hashtags': [], 'urls': [], 'user_mentions': ...</td>\n",
       "      <td>False</td>\n",
       "      <td>False</td>\n",
       "      <td>NaN</td>\n",
       "      <td>low</td>\n",
       "      <td>en</td>\n",
       "      <td>1586716046121</td>\n",
       "    </tr>\n",
       "    <tr>\n",
       "      <th>4</th>\n",
       "      <td>Sun Apr 12 18:27:26 +0000 2020</td>\n",
       "      <td>1249403770435493888</td>\n",
       "      <td>1249403770435493888</td>\n",
       "      <td>RT @biannagolodryga: This image.\\nThis quote.\\...</td>\n",
       "      <td>&lt;a href=\"https://mobile.twitter.com\" rel=\"nofo...</td>\n",
       "      <td>False</td>\n",
       "      <td>NaN</td>\n",
       "      <td>None</td>\n",
       "      <td>NaN</td>\n",
       "      <td>None</td>\n",
       "      <td>...</td>\n",
       "      <td>0</td>\n",
       "      <td>0</td>\n",
       "      <td>0</td>\n",
       "      <td>{'hashtags': [], 'urls': [], 'user_mentions': ...</td>\n",
       "      <td>False</td>\n",
       "      <td>False</td>\n",
       "      <td>NaN</td>\n",
       "      <td>low</td>\n",
       "      <td>en</td>\n",
       "      <td>1586716046328</td>\n",
       "    </tr>\n",
       "    <tr>\n",
       "      <th>5</th>\n",
       "      <td>Sun Apr 12 18:27:26 +0000 2020</td>\n",
       "      <td>1249403770360016896</td>\n",
       "      <td>1249403770360016896</td>\n",
       "      <td>SERÁ APENAS COINCIDÊNCIA?\\n\\nApós escudo do Re...</td>\n",
       "      <td>&lt;a href=\"http://twitter.com/download/android\" ...</td>\n",
       "      <td>True</td>\n",
       "      <td>NaN</td>\n",
       "      <td>None</td>\n",
       "      <td>NaN</td>\n",
       "      <td>None</td>\n",
       "      <td>...</td>\n",
       "      <td>0</td>\n",
       "      <td>0</td>\n",
       "      <td>0</td>\n",
       "      <td>{'hashtags': [], 'urls': [{'url': 'https://t.c...</td>\n",
       "      <td>False</td>\n",
       "      <td>False</td>\n",
       "      <td>False</td>\n",
       "      <td>low</td>\n",
       "      <td>pt</td>\n",
       "      <td>1586716046310</td>\n",
       "    </tr>\n",
       "    <tr>\n",
       "      <th>6</th>\n",
       "      <td>Sun Apr 12 18:27:26 +0000 2020</td>\n",
       "      <td>1249403770833981440</td>\n",
       "      <td>1249403770833981440</td>\n",
       "      <td>RT @biannagolodryga: This image.\\nThis quote.\\...</td>\n",
       "      <td>&lt;a href=\"http://twitter.com/download/android\" ...</td>\n",
       "      <td>False</td>\n",
       "      <td>NaN</td>\n",
       "      <td>None</td>\n",
       "      <td>NaN</td>\n",
       "      <td>None</td>\n",
       "      <td>...</td>\n",
       "      <td>0</td>\n",
       "      <td>0</td>\n",
       "      <td>0</td>\n",
       "      <td>{'hashtags': [], 'urls': [], 'user_mentions': ...</td>\n",
       "      <td>False</td>\n",
       "      <td>False</td>\n",
       "      <td>NaN</td>\n",
       "      <td>low</td>\n",
       "      <td>en</td>\n",
       "      <td>1586716046423</td>\n",
       "    </tr>\n",
       "    <tr>\n",
       "      <th>7</th>\n",
       "      <td>Sun Apr 12 18:27:26 +0000 2020</td>\n",
       "      <td>1249403771077005315</td>\n",
       "      <td>1249403771077005315</td>\n",
       "      <td>RT @SarkariHelpline: भाजपा नेता तज़िंदर बग्गा ...</td>\n",
       "      <td>&lt;a href=\"http://twitter.com/download/android\" ...</td>\n",
       "      <td>False</td>\n",
       "      <td>NaN</td>\n",
       "      <td>None</td>\n",
       "      <td>NaN</td>\n",
       "      <td>None</td>\n",
       "      <td>...</td>\n",
       "      <td>0</td>\n",
       "      <td>0</td>\n",
       "      <td>0</td>\n",
       "      <td>{'hashtags': [], 'urls': [], 'user_mentions': ...</td>\n",
       "      <td>False</td>\n",
       "      <td>False</td>\n",
       "      <td>NaN</td>\n",
       "      <td>low</td>\n",
       "      <td>hi</td>\n",
       "      <td>1586716046481</td>\n",
       "    </tr>\n",
       "    <tr>\n",
       "      <th>8</th>\n",
       "      <td>Sun Apr 12 18:27:26 +0000 2020</td>\n",
       "      <td>1249403771261722624</td>\n",
       "      <td>1249403771261722624</td>\n",
       "      <td>#Bo der Osterhase hat nicht Corona, er ist gek...</td>\n",
       "      <td>&lt;a href=\"http://twitter.com/download/android\" ...</td>\n",
       "      <td>False</td>\n",
       "      <td>NaN</td>\n",
       "      <td>None</td>\n",
       "      <td>NaN</td>\n",
       "      <td>None</td>\n",
       "      <td>...</td>\n",
       "      <td>0</td>\n",
       "      <td>0</td>\n",
       "      <td>0</td>\n",
       "      <td>{'hashtags': [{'text': 'Bo', 'indices': [0, 3]...</td>\n",
       "      <td>False</td>\n",
       "      <td>False</td>\n",
       "      <td>NaN</td>\n",
       "      <td>low</td>\n",
       "      <td>de</td>\n",
       "      <td>1586716046525</td>\n",
       "    </tr>\n",
       "    <tr>\n",
       "      <th>9</th>\n",
       "      <td>Sun Apr 12 18:27:26 +0000 2020</td>\n",
       "      <td>1249403771676815361</td>\n",
       "      <td>1249403771676815361</td>\n",
       "      <td>RT @ani_royal007: India Mai Corona Virus Ka Bh...</td>\n",
       "      <td>&lt;a href=\"http://twitter.com/download/android\" ...</td>\n",
       "      <td>False</td>\n",
       "      <td>NaN</td>\n",
       "      <td>None</td>\n",
       "      <td>NaN</td>\n",
       "      <td>None</td>\n",
       "      <td>...</td>\n",
       "      <td>0</td>\n",
       "      <td>0</td>\n",
       "      <td>0</td>\n",
       "      <td>{'hashtags': [], 'urls': [], 'user_mentions': ...</td>\n",
       "      <td>False</td>\n",
       "      <td>False</td>\n",
       "      <td>False</td>\n",
       "      <td>low</td>\n",
       "      <td>in</td>\n",
       "      <td>1586716046624</td>\n",
       "    </tr>\n",
       "  </tbody>\n",
       "</table>\n",
       "<p>9 rows × 29 columns</p>\n",
       "</div>"
      ],
      "text/plain": [
       "                       created_at                   id               id_str  \\\n",
       "1  Sun Apr 12 18:27:25 +0000 2020  1249403768023678982  1249403768023678982   \n",
       "2  Sun Apr 12 18:27:26 +0000 2020  1249403769193779202  1249403769193779202   \n",
       "3  Sun Apr 12 18:27:26 +0000 2020  1249403769567227906  1249403769567227906   \n",
       "4  Sun Apr 12 18:27:26 +0000 2020  1249403770435493888  1249403770435493888   \n",
       "5  Sun Apr 12 18:27:26 +0000 2020  1249403770360016896  1249403770360016896   \n",
       "6  Sun Apr 12 18:27:26 +0000 2020  1249403770833981440  1249403770833981440   \n",
       "7  Sun Apr 12 18:27:26 +0000 2020  1249403771077005315  1249403771077005315   \n",
       "8  Sun Apr 12 18:27:26 +0000 2020  1249403771261722624  1249403771261722624   \n",
       "9  Sun Apr 12 18:27:26 +0000 2020  1249403771676815361  1249403771676815361   \n",
       "\n",
       "                                                text  \\\n",
       "1  RT @lale_karanfil: In Turkey, there are 300 th...   \n",
       "2  RT @umesh_agr: Thank You Sir !!\\nReally thankf...   \n",
       "3  RT @meysimek: Turkey is so stubborn to change ...   \n",
       "4  RT @biannagolodryga: This image.\\nThis quote.\\...   \n",
       "5  SERÁ APENAS COINCIDÊNCIA?\\n\\nApós escudo do Re...   \n",
       "6  RT @biannagolodryga: This image.\\nThis quote.\\...   \n",
       "7  RT @SarkariHelpline: भाजपा नेता तज़िंदर बग्गा ...   \n",
       "8  #Bo der Osterhase hat nicht Corona, er ist gek...   \n",
       "9  RT @ani_royal007: India Mai Corona Virus Ka Bh...   \n",
       "\n",
       "                                              source  truncated  \\\n",
       "1  <a href=\"https://mobile.twitter.com\" rel=\"nofo...      False   \n",
       "2  <a href=\"http://twitter.com/download/android\" ...      False   \n",
       "3  <a href=\"http://twitter.com/download/android\" ...      False   \n",
       "4  <a href=\"https://mobile.twitter.com\" rel=\"nofo...      False   \n",
       "5  <a href=\"http://twitter.com/download/android\" ...       True   \n",
       "6  <a href=\"http://twitter.com/download/android\" ...      False   \n",
       "7  <a href=\"http://twitter.com/download/android\" ...      False   \n",
       "8  <a href=\"http://twitter.com/download/android\" ...      False   \n",
       "9  <a href=\"http://twitter.com/download/android\" ...      False   \n",
       "\n",
       "   in_reply_to_status_id in_reply_to_status_id_str  in_reply_to_user_id  \\\n",
       "1                    NaN                      None                  NaN   \n",
       "2                    NaN                      None                  NaN   \n",
       "3                    NaN                      None                  NaN   \n",
       "4                    NaN                      None                  NaN   \n",
       "5                    NaN                      None                  NaN   \n",
       "6                    NaN                      None                  NaN   \n",
       "7                    NaN                      None                  NaN   \n",
       "8                    NaN                      None                  NaN   \n",
       "9                    NaN                      None                  NaN   \n",
       "\n",
       "  in_reply_to_user_id_str  ... reply_count retweet_count favorite_count  \\\n",
       "1                    None  ...           0             0              0   \n",
       "2                    None  ...           0             0              0   \n",
       "3                    None  ...           0             0              0   \n",
       "4                    None  ...           0             0              0   \n",
       "5                    None  ...           0             0              0   \n",
       "6                    None  ...           0             0              0   \n",
       "7                    None  ...           0             0              0   \n",
       "8                    None  ...           0             0              0   \n",
       "9                    None  ...           0             0              0   \n",
       "\n",
       "                                            entities favorited retweeted  \\\n",
       "1  {'hashtags': [], 'urls': [], 'user_mentions': ...     False     False   \n",
       "2  {'hashtags': [], 'urls': [], 'user_mentions': ...     False     False   \n",
       "3  {'hashtags': [], 'urls': [], 'user_mentions': ...     False     False   \n",
       "4  {'hashtags': [], 'urls': [], 'user_mentions': ...     False     False   \n",
       "5  {'hashtags': [], 'urls': [{'url': 'https://t.c...     False     False   \n",
       "6  {'hashtags': [], 'urls': [], 'user_mentions': ...     False     False   \n",
       "7  {'hashtags': [], 'urls': [], 'user_mentions': ...     False     False   \n",
       "8  {'hashtags': [{'text': 'Bo', 'indices': [0, 3]...     False     False   \n",
       "9  {'hashtags': [], 'urls': [], 'user_mentions': ...     False     False   \n",
       "\n",
       "  possibly_sensitive  filter_level  lang   timestamp_ms  \n",
       "1                NaN           low    en  1586716045753  \n",
       "2                NaN           low    en  1586716046032  \n",
       "3                NaN           low    en  1586716046121  \n",
       "4                NaN           low    en  1586716046328  \n",
       "5              False           low    pt  1586716046310  \n",
       "6                NaN           low    en  1586716046423  \n",
       "7                NaN           low    hi  1586716046481  \n",
       "8                NaN           low    de  1586716046525  \n",
       "9              False           low    in  1586716046624  \n",
       "\n",
       "[9 rows x 29 columns]"
      ]
     },
     "execution_count": 156,
     "metadata": {},
     "output_type": "execute_result"
    }
   ],
   "source": [
    "df[df['filter_level']== 'low'][1:10]"
   ]
  },
  {
   "cell_type": "code",
   "execution_count": 223,
   "metadata": {
    "scrolled": true
   },
   "outputs": [
    {
     "data": {
      "text/plain": [
       "array(['en', 'pt', 'hi', 'de', 'in', 'tr', 'mr', 'ja', 'es', 'ca', 'und',\n",
       "       'sv', 'fr', 'nl', 'it', 'ar', 'tl', 'ur', 'ta', 'ht', 'pl', 'fa',\n",
       "       'bn', 'et', 'ro', 'gu', 'lt', 'fi', 'kn', 'da', 'te', 'vi', 'ne',\n",
       "       'ml', 'cy', 'cs', 'ru', 'th', 'si', 'sl', 'iw', 'or', 'no', 'hu',\n",
       "       'eu', 'bg', 'el'], dtype=object)"
      ]
     },
     "execution_count": 223,
     "metadata": {},
     "output_type": "execute_result"
    }
   ],
   "source": [
    "(pd.unique(df['lang']))"
   ]
  },
  {
   "cell_type": "code",
   "execution_count": 30,
   "metadata": {},
   "outputs": [],
   "source": [
    "# this is a partial template for processing the dataset to store into the datastores.\n",
    "# you will need to write functions for the psuedocode sections and invoke them here\n",
    "\n",
    "#insert path and replace name of the file below as needed\n",
    "with open(\"corona-out-2\", \"r\") as f1:\n",
    "    for line in f1:\n",
    "        try:\n",
    "            data = json.loads(line)\n",
    "            # pseudocode: \n",
    "            # if tweet has been seen before, \n",
    "            #         continue (ignore this tweet, go to next iteration of loop)\n",
    "            \n",
    "            user = data['user']\n",
    "            # psuedocode: \n",
    "            # if user has not been seen before\n",
    "            #            add to user table \n",
    "            # update datastores with any metrics that you are tracking \n",
    "            \n",
    "            if ( data['text'].startswith('RT') ):\n",
    "                # psuedocode:\n",
    "                # update retweet information\n",
    "                # note that you may not have an entry for the original tweet \n",
    "                # if that is not in the dataset\n",
    "                pass  # does nothing right now\n",
    "                \n",
    "            else:\n",
    "                # psuedocode:\n",
    "                # add the new tweet to datastore\n",
    "                pass # does nothing right now\n",
    "        except:\n",
    "            continue\n"
   ]
  },
  {
   "cell_type": "code",
   "execution_count": 189,
   "metadata": {
    "scrolled": false
   },
   "outputs": [
    {
     "data": {
      "text/plain": [
       "{'created_at': 'Sun Apr 12 18:47:53 +0000 2020',\n",
       " 'id': 1249408918196871168,\n",
       " 'id_str': '1249408918196871168',\n",
       " 'text': 'RT @liputan6dotcom: Lagi, 2 Dokter Senior Meninggal karena Corona Covid-19 https://t.co/eDbMsxFA84',\n",
       " 'source': '<a href=\"http://twitter.com/download/android\" rel=\"nofollow\">Twitter for Android</a>',\n",
       " 'truncated': False,\n",
       " 'in_reply_to_status_id': None,\n",
       " 'in_reply_to_status_id_str': None,\n",
       " 'in_reply_to_user_id': None,\n",
       " 'in_reply_to_user_id_str': None,\n",
       " 'in_reply_to_screen_name': None,\n",
       " 'user': {'id': 2283278160,\n",
       "  'id_str': '2283278160',\n",
       "  'name': 'Mr rius',\n",
       "  'screen_name': 'AwhexWibowo',\n",
       "  'location': 'Yogyakarta, Indonesia',\n",
       "  'url': None,\n",
       "  'description': 'have fun go mad',\n",
       "  'translator_type': 'none',\n",
       "  'protected': False,\n",
       "  'verified': False,\n",
       "  'followers_count': 451,\n",
       "  'friends_count': 608,\n",
       "  'listed_count': 2,\n",
       "  'favourites_count': 4625,\n",
       "  'statuses_count': 31160,\n",
       "  'created_at': 'Thu Jan 09 08:34:03 +0000 2014',\n",
       "  'utc_offset': None,\n",
       "  'time_zone': None,\n",
       "  'geo_enabled': True,\n",
       "  'lang': None,\n",
       "  'contributors_enabled': False,\n",
       "  'is_translator': False,\n",
       "  'profile_background_color': 'C0DEED',\n",
       "  'profile_background_image_url': 'http://abs.twimg.com/images/themes/theme1/bg.png',\n",
       "  'profile_background_image_url_https': 'https://abs.twimg.com/images/themes/theme1/bg.png',\n",
       "  'profile_background_tile': False,\n",
       "  'profile_link_color': '1DA1F2',\n",
       "  'profile_sidebar_border_color': 'C0DEED',\n",
       "  'profile_sidebar_fill_color': 'DDEEF6',\n",
       "  'profile_text_color': '333333',\n",
       "  'profile_use_background_image': True,\n",
       "  'profile_image_url': 'http://pbs.twimg.com/profile_images/1045333930910482432/9T4eZEsi_normal.jpg',\n",
       "  'profile_image_url_https': 'https://pbs.twimg.com/profile_images/1045333930910482432/9T4eZEsi_normal.jpg',\n",
       "  'profile_banner_url': 'https://pbs.twimg.com/profile_banners/2283278160/1585672135',\n",
       "  'default_profile': True,\n",
       "  'default_profile_image': False,\n",
       "  'following': None,\n",
       "  'follow_request_sent': None,\n",
       "  'notifications': None},\n",
       " 'geo': None,\n",
       " 'coordinates': None,\n",
       " 'place': None,\n",
       " 'contributors': None,\n",
       " 'retweeted_status': {'created_at': 'Sun Apr 12 17:22:04 +0000 2020',\n",
       "  'id': 1249387319229988865,\n",
       "  'id_str': '1249387319229988865',\n",
       "  'text': 'Lagi, 2 Dokter Senior Meninggal karena Corona Covid-19 https://t.co/eDbMsxFA84',\n",
       "  'source': '<a href=\"https://dlvrit.com/\" rel=\"nofollow\">dlvr.it</a>',\n",
       "  'truncated': False,\n",
       "  'in_reply_to_status_id': None,\n",
       "  'in_reply_to_status_id_str': None,\n",
       "  'in_reply_to_user_id': None,\n",
       "  'in_reply_to_user_id_str': None,\n",
       "  'in_reply_to_screen_name': None,\n",
       "  'user': {'id': 47596019,\n",
       "   'id_str': '47596019',\n",
       "   'name': 'Liputan6.com',\n",
       "   'screen_name': 'liputan6dotcom',\n",
       "   'location': 'Jakarta Indonesia',\n",
       "   'url': None,\n",
       "   'description': 'Download Apps https://t.co/Tg70sLl3Dc di sini https://t.co/DkBRaoqgmX \\nWebsite : https://t.co/Tg70sLl3Dc                                   \\nContact us: Liputan6Socmed@gmail.com',\n",
       "   'translator_type': 'regular',\n",
       "   'protected': False,\n",
       "   'verified': True,\n",
       "   'followers_count': 3675977,\n",
       "   'friends_count': 693,\n",
       "   'listed_count': 4806,\n",
       "   'favourites_count': 7055,\n",
       "   'statuses_count': 1375342,\n",
       "   'created_at': 'Tue Jun 16 10:48:24 +0000 2009',\n",
       "   'utc_offset': None,\n",
       "   'time_zone': None,\n",
       "   'geo_enabled': True,\n",
       "   'lang': None,\n",
       "   'contributors_enabled': False,\n",
       "   'is_translator': False,\n",
       "   'profile_background_color': 'E88317',\n",
       "   'profile_background_image_url': 'http://abs.twimg.com/images/themes/theme16/bg.gif',\n",
       "   'profile_background_image_url_https': 'https://abs.twimg.com/images/themes/theme16/bg.gif',\n",
       "   'profile_background_tile': False,\n",
       "   'profile_link_color': 'E88317',\n",
       "   'profile_sidebar_border_color': 'FFFFFF',\n",
       "   'profile_sidebar_fill_color': 'F05A31',\n",
       "   'profile_text_color': '0099CC',\n",
       "   'profile_use_background_image': False,\n",
       "   'profile_image_url': 'http://pbs.twimg.com/profile_images/1196221192916439041/SuL7oIar_normal.jpg',\n",
       "   'profile_image_url_https': 'https://pbs.twimg.com/profile_images/1196221192916439041/SuL7oIar_normal.jpg',\n",
       "   'profile_banner_url': 'https://pbs.twimg.com/profile_banners/47596019/1585833284',\n",
       "   'default_profile': False,\n",
       "   'default_profile_image': False,\n",
       "   'following': None,\n",
       "   'follow_request_sent': None,\n",
       "   'notifications': None},\n",
       "  'geo': None,\n",
       "  'coordinates': None,\n",
       "  'place': None,\n",
       "  'contributors': None,\n",
       "  'is_quote_status': False,\n",
       "  'quote_count': 7,\n",
       "  'reply_count': 12,\n",
       "  'retweet_count': 86,\n",
       "  'favorite_count': 108,\n",
       "  'entities': {'hashtags': [],\n",
       "   'urls': [{'url': 'https://t.co/eDbMsxFA84',\n",
       "     'expanded_url': 'http://dlvr.it/RTf5SD',\n",
       "     'display_url': 'dlvr.it/RTf5SD',\n",
       "     'indices': [55, 78]}],\n",
       "   'user_mentions': [],\n",
       "   'symbols': []},\n",
       "  'favorited': False,\n",
       "  'retweeted': False,\n",
       "  'possibly_sensitive': False,\n",
       "  'filter_level': 'low',\n",
       "  'lang': 'in'},\n",
       " 'is_quote_status': False,\n",
       " 'quote_count': 0,\n",
       " 'reply_count': 0,\n",
       " 'retweet_count': 0,\n",
       " 'favorite_count': 0,\n",
       " 'entities': {'hashtags': [],\n",
       "  'urls': [{'url': 'https://t.co/eDbMsxFA84',\n",
       "    'expanded_url': 'http://dlvr.it/RTf5SD',\n",
       "    'display_url': 'dlvr.it/RTf5SD',\n",
       "    'indices': [75, 98]}],\n",
       "  'user_mentions': [{'screen_name': 'liputan6dotcom',\n",
       "    'name': 'Liputan6.com',\n",
       "    'id': 47596019,\n",
       "    'id_str': '47596019',\n",
       "    'indices': [3, 18]}],\n",
       "  'symbols': []},\n",
       " 'favorited': False,\n",
       " 'retweeted': False,\n",
       " 'possibly_sensitive': False,\n",
       " 'filter_level': 'low',\n",
       " 'lang': 'in',\n",
       " 'timestamp_ms': '1586717273650'}"
      ]
     },
     "execution_count": 189,
     "metadata": {},
     "output_type": "execute_result"
    }
   ],
   "source": [
    "data"
   ]
  },
  {
   "cell_type": "code",
   "execution_count": 22,
   "metadata": {
    "scrolled": true
   },
   "outputs": [
    {
     "data": {
      "text/plain": [
       "{'id': 2283278160,\n",
       " 'id_str': '2283278160',\n",
       " 'name': 'Mr rius',\n",
       " 'screen_name': 'AwhexWibowo',\n",
       " 'location': 'Yogyakarta, Indonesia',\n",
       " 'url': None,\n",
       " 'description': 'have fun go mad',\n",
       " 'translator_type': 'none',\n",
       " 'protected': False,\n",
       " 'verified': False,\n",
       " 'followers_count': 451,\n",
       " 'friends_count': 608,\n",
       " 'listed_count': 2,\n",
       " 'favourites_count': 4625,\n",
       " 'statuses_count': 31160,\n",
       " 'created_at': 'Thu Jan 09 08:34:03 +0000 2014',\n",
       " 'utc_offset': None,\n",
       " 'time_zone': None,\n",
       " 'geo_enabled': True,\n",
       " 'lang': None,\n",
       " 'contributors_enabled': False,\n",
       " 'is_translator': False,\n",
       " 'profile_background_color': 'C0DEED',\n",
       " 'profile_background_image_url': 'http://abs.twimg.com/images/themes/theme1/bg.png',\n",
       " 'profile_background_image_url_https': 'https://abs.twimg.com/images/themes/theme1/bg.png',\n",
       " 'profile_background_tile': False,\n",
       " 'profile_link_color': '1DA1F2',\n",
       " 'profile_sidebar_border_color': 'C0DEED',\n",
       " 'profile_sidebar_fill_color': 'DDEEF6',\n",
       " 'profile_text_color': '333333',\n",
       " 'profile_use_background_image': True,\n",
       " 'profile_image_url': 'http://pbs.twimg.com/profile_images/1045333930910482432/9T4eZEsi_normal.jpg',\n",
       " 'profile_image_url_https': 'https://pbs.twimg.com/profile_images/1045333930910482432/9T4eZEsi_normal.jpg',\n",
       " 'profile_banner_url': 'https://pbs.twimg.com/profile_banners/2283278160/1585672135',\n",
       " 'default_profile': True,\n",
       " 'default_profile_image': False,\n",
       " 'following': None,\n",
       " 'follow_request_sent': None,\n",
       " 'notifications': None}"
      ]
     },
     "execution_count": 22,
     "metadata": {},
     "output_type": "execute_result"
    }
   ],
   "source": [
    "data['user']"
   ]
  },
  {
   "cell_type": "code",
   "execution_count": 5,
   "metadata": {
    "scrolled": true
   },
   "outputs": [
    {
     "name": "stdout",
     "output_type": "stream",
     "text": [
      "RETWEET\n",
      " id-- 1249403767180668930 text-- RT @nuffsaidny: wishing death on people is weirdo behavior. \n",
      "\n",
      "User--  {'id': 1242817830946508801, 'id_str': '1242817830946508801', 'name': 'juwelz v', 'screen_name': 'juwelz_v', 'location': 'Lower East Side, Manhattan', 'url': 'https://linktr.ee/juwelzv', 'description': 'Event Lyfe LLC .. Brand Ambassador: #visionarysociety Music Manager: @ssizzzlee & @tmoneybeatsbang Production🎥📸 #BringNyCultureBack 🌊🌊🌊 !!', 'translator_type': 'none', 'protected': False, 'verified': False, 'followers_count': 43, 'friends_count': 118, 'listed_count': 0, 'favourites_count': 722, 'statuses_count': 906, 'created_at': 'Wed Mar 25 14:17:28 +0000 2020', 'utc_offset': None, 'time_zone': None, 'geo_enabled': False, 'lang': None, 'contributors_enabled': False, 'is_translator': False, 'profile_background_color': 'F5F8FA', 'profile_background_image_url': '', 'profile_background_image_url_https': '', 'profile_background_tile': False, 'profile_link_color': '1DA1F2', 'profile_sidebar_border_color': 'C0DEED', 'profile_sidebar_fill_color': 'DDEEF6', 'profile_text_color': '333333', 'profile_use_background_image': True, 'profile_image_url': 'http://pbs.twimg.com/profile_images/1246253579805089797/Ks1MrEDW_normal.jpg', 'profile_image_url_https': 'https://pbs.twimg.com/profile_images/1246253579805089797/Ks1MrEDW_normal.jpg', 'profile_banner_url': 'https://pbs.twimg.com/profile_banners/1242817830946508801/1585146985', 'default_profile': True, 'default_profile_image': False, 'following': None, 'follow_request_sent': None, 'notifications': None} \n",
      "\n",
      "retweetstatus-- {'created_at': 'Sun Apr 12 16:48:01 +0000 2020', 'id': 1249378751349231616, 'id_str': '1249378751349231616', 'text': 'wishing death on people is weirdo behavior.', 'source': '<a href=\"http://twitter.com/download/iphone\" rel=\"nofollow\">Twitter for iPhone</a>', 'truncated': False, 'in_reply_to_status_id': None, 'in_reply_to_status_id_str': None, 'in_reply_to_user_id': None, 'in_reply_to_user_id_str': None, 'in_reply_to_screen_name': None, 'user': {'id': 16144221, 'id_str': '16144221', 'name': 'NUFF', 'screen_name': 'nuffsaidny', 'location': None, 'url': None, 'description': 'instagram: @nuffsaidny 🇹🇹', 'translator_type': 'regular', 'protected': False, 'verified': False, 'followers_count': 17112, 'friends_count': 1515, 'listed_count': 874, 'favourites_count': 15790, 'statuses_count': 2599, 'created_at': 'Fri Sep 05 14:28:41 +0000 2008', 'utc_offset': None, 'time_zone': None, 'geo_enabled': True, 'lang': None, 'contributors_enabled': False, 'is_translator': False, 'profile_background_color': 'C0DEED', 'profile_background_image_url': 'http://abs.twimg.com/images/themes/theme1/bg.png', 'profile_background_image_url_https': 'https://abs.twimg.com/images/themes/theme1/bg.png', 'profile_background_tile': True, 'profile_link_color': 'E81C4F', 'profile_sidebar_border_color': '000000', 'profile_sidebar_fill_color': '000000', 'profile_text_color': '000000', 'profile_use_background_image': True, 'profile_image_url': 'http://pbs.twimg.com/profile_images/1240511913152282624/I024wGWG_normal.jpg', 'profile_image_url_https': 'https://pbs.twimg.com/profile_images/1240511913152282624/I024wGWG_normal.jpg', 'default_profile': False, 'default_profile_image': False, 'following': None, 'follow_request_sent': None, 'notifications': None}, 'geo': None, 'coordinates': None, 'place': None, 'contributors': None, 'quoted_status_id': 1249315454797168641, 'quoted_status_id_str': '1249315454797168641', 'quoted_status': {'created_at': 'Sun Apr 12 12:36:30 +0000 2020', 'id': 1249315454797168641, 'id_str': '1249315454797168641', 'text': 'I pray my haters die of corona virus 😷', 'source': '<a href=\"http://twitter.com/download/iphone\" rel=\"nofollow\">Twitter for iPhone</a>', 'truncated': False, 'in_reply_to_status_id': None, 'in_reply_to_status_id_str': None, 'in_reply_to_user_id': None, 'in_reply_to_user_id_str': None, 'in_reply_to_screen_name': None, 'user': {'id': 46769281, 'id_str': '46769281', 'name': 'Gucci Mane', 'screen_name': 'gucci1017', 'location': 'EAST ATLANTA', 'url': 'https://guccimane.lnk.to/Woptober2', 'description': 'Major Label Recording Artist, signed to Atlantic Records. | wizopbooking@gmail.com', 'translator_type': 'none', 'protected': False, 'verified': True, 'followers_count': 8483937, 'friends_count': 1, 'listed_count': 10366, 'favourites_count': 11016, 'statuses_count': 21123, 'created_at': 'Fri Jun 12 22:52:05 +0000 2009', 'utc_offset': None, 'time_zone': None, 'geo_enabled': False, 'lang': None, 'contributors_enabled': False, 'is_translator': False, 'profile_background_color': '000000', 'profile_background_image_url': 'http://abs.twimg.com/images/themes/theme14/bg.gif', 'profile_background_image_url_https': 'https://abs.twimg.com/images/themes/theme14/bg.gif', 'profile_background_tile': False, 'profile_link_color': '009999', 'profile_sidebar_border_color': 'FFFFFF', 'profile_sidebar_fill_color': 'EFEFEF', 'profile_text_color': '333333', 'profile_use_background_image': True, 'profile_image_url': 'http://pbs.twimg.com/profile_images/1236396637284700161/cq6xECoN_normal.jpg', 'profile_image_url_https': 'https://pbs.twimg.com/profile_images/1236396637284700161/cq6xECoN_normal.jpg', 'profile_banner_url': 'https://pbs.twimg.com/profile_banners/46769281/1583614905', 'default_profile': False, 'default_profile_image': False, 'following': None, 'follow_request_sent': None, 'notifications': None}, 'geo': None, 'coordinates': None, 'place': None, 'contributors': None, 'is_quote_status': False, 'quote_count': 3376, 'reply_count': 1956, 'retweet_count': 9246, 'favorite_count': 33006, 'entities': {'hashtags': [], 'urls': [], 'user_mentions': [], 'symbols': []}, 'favorited': False, 'retweeted': False, 'filter_level': 'low', 'lang': 'en'}, 'quoted_status_permalink': {'url': 'https://t.co/FdZ3Hxzfwl', 'expanded': 'https://twitter.com/gucci1017/status/1249315454797168641', 'display': 'twitter.com/gucci1017/stat…'}, 'is_quote_status': True, 'quote_count': 1, 'reply_count': 1, 'retweet_count': 24, 'favorite_count': 50, 'entities': {'hashtags': [], 'urls': [], 'user_mentions': [], 'symbols': []}, 'favorited': False, 'retweeted': False, 'filter_level': 'low', 'lang': 'en'} \n",
      "\n",
      "RETWEET\n",
      " id-- 1249403768023678982 text-- RT @lale_karanfil: In Turkey, there are 300 thousand prisoners and 150 thousand prison employees in prisons. \n",
      "Prisons are the most risky pl… \n",
      "\n",
      "User--  {'id': 1225145123920588805, 'id_str': '1225145123920588805', 'name': 'efe09', 'screen_name': 'efe0927183508', 'location': None, 'url': None, 'description': \"Allah'ın en değerli eseri insandır.\\nCanı yanan sabretsin.\\nCan yakan, canının yanacağı günü beklesin..\\n677 khk\\nRT düşüncem olduğu anlamına gelmez bilgi amaçlıdır\", 'translator_type': 'none', 'protected': False, 'verified': False, 'followers_count': 653, 'friends_count': 983, 'listed_count': 0, 'favourites_count': 1255, 'statuses_count': 4177, 'created_at': 'Wed Feb 05 19:52:38 +0000 2020', 'utc_offset': None, 'time_zone': None, 'geo_enabled': False, 'lang': None, 'contributors_enabled': False, 'is_translator': False, 'profile_background_color': 'F5F8FA', 'profile_background_image_url': '', 'profile_background_image_url_https': '', 'profile_background_tile': False, 'profile_link_color': '1DA1F2', 'profile_sidebar_border_color': 'C0DEED', 'profile_sidebar_fill_color': 'DDEEF6', 'profile_text_color': '333333', 'profile_use_background_image': True, 'profile_image_url': 'http://pbs.twimg.com/profile_images/1243137514665361409/95Mv0oRS_normal.jpg', 'profile_image_url_https': 'https://pbs.twimg.com/profile_images/1243137514665361409/95Mv0oRS_normal.jpg', 'profile_banner_url': 'https://pbs.twimg.com/profile_banners/1225145123920588805/1585222614', 'default_profile': True, 'default_profile_image': False, 'following': None, 'follow_request_sent': None, 'notifications': None} \n",
      "\n",
      "retweetstatus-- {'created_at': 'Sun Apr 12 18:02:41 +0000 2020', 'id': 1249397541596286979, 'id_str': '1249397541596286979', 'text': 'In Turkey, there are 300 thousand prisoners and 150 thousand prison employees in prisons. \\nPrisons are the most ris… https://t.co/GogsgfUxkE', 'source': '<a href=\"http://twitter.com/download/android\" rel=\"nofollow\">Twitter for Android</a>', 'truncated': True, 'in_reply_to_status_id': None, 'in_reply_to_status_id_str': None, 'in_reply_to_user_id': None, 'in_reply_to_user_id_str': None, 'in_reply_to_screen_name': None, 'user': {'id': 1087735689091928064, 'id_str': '1087735689091928064', 'name': 'Karanfil Lale', 'screen_name': 'lale_karanfil', 'location': None, 'url': None, 'description': None, 'translator_type': 'none', 'protected': False, 'verified': False, 'followers_count': 897, 'friends_count': 1120, 'listed_count': 1, 'favourites_count': 2776, 'statuses_count': 7986, 'created_at': 'Tue Jan 22 15:36:12 +0000 2019', 'utc_offset': None, 'time_zone': None, 'geo_enabled': False, 'lang': None, 'contributors_enabled': False, 'is_translator': False, 'profile_background_color': 'F5F8FA', 'profile_background_image_url': '', 'profile_background_image_url_https': '', 'profile_background_tile': False, 'profile_link_color': '1DA1F2', 'profile_sidebar_border_color': 'C0DEED', 'profile_sidebar_fill_color': 'DDEEF6', 'profile_text_color': '333333', 'profile_use_background_image': True, 'profile_image_url': 'http://pbs.twimg.com/profile_images/1248313542387757057/see_F0uX_normal.jpg', 'profile_image_url_https': 'https://pbs.twimg.com/profile_images/1248313542387757057/see_F0uX_normal.jpg', 'profile_banner_url': 'https://pbs.twimg.com/profile_banners/1087735689091928064/1571123765', 'default_profile': True, 'default_profile_image': False, 'following': None, 'follow_request_sent': None, 'notifications': None}, 'geo': None, 'coordinates': None, 'place': None, 'contributors': None, 'is_quote_status': False, 'extended_tweet': {'full_text': 'In Turkey, there are 300 thousand prisoners and 150 thousand prison employees in prisons. \\nPrisons are the most risky places in case of corona virus.\\nThe lives of thousands of people are at risk.\\n\\n#COVID19InTurkeysPrisons\\n\\n@SusannaCeccardi', 'display_text_range': [0, 239], 'entities': {'hashtags': [{'text': 'COVID19InTurkeysPrisons', 'indices': [197, 221]}], 'urls': [], 'user_mentions': [{'screen_name': 'SusannaCeccardi', 'name': 'Susanna Ceccardi', 'id': 406110645, 'id_str': '406110645', 'indices': [223, 239]}], 'symbols': []}}, 'quote_count': 0, 'reply_count': 1, 'retweet_count': 14, 'favorite_count': 6, 'entities': {'hashtags': [], 'urls': [{'url': 'https://t.co/GogsgfUxkE', 'expanded_url': 'https://twitter.com/i/web/status/1249397541596286979', 'display_url': 'twitter.com/i/web/status/1…', 'indices': [117, 140]}], 'user_mentions': [], 'symbols': []}, 'favorited': False, 'retweeted': False, 'filter_level': 'low', 'lang': 'en'} \n",
      "\n",
      "TWEET\n",
      " id-- 1249403770360016896 text-- SERÁ APENAS COINCIDÊNCIA?\n",
      "\n",
      "Após escudo do Remo aparecer em prédio, Prefeitura divulgou que 33 pessoas com corona se… https://t.co/lCcwYH2eg5 \n",
      "\n",
      "User--  {'id': 988174833849634816, 'id_str': '988174833849634816', 'name': 'TV Conservador / Metró', 'screen_name': 'TVConservador', 'location': 'Belém, Brasil', 'url': None, 'description': 'Emissora afiliada a Rede Metrópole (@cnt_pr) no estado do Pará. As notícias aqui dadas são FICTÍCIAS, não pegue corda ok 👍\\n\\n© Sistema O Conservador Ltda.', 'translator_type': 'none', 'protected': False, 'verified': False, 'followers_count': 7240, 'friends_count': 566, 'listed_count': 17, 'favourites_count': 18417, 'statuses_count': 22665, 'created_at': 'Sun Apr 22 21:56:54 +0000 2018', 'utc_offset': None, 'time_zone': None, 'geo_enabled': False, 'lang': None, 'contributors_enabled': False, 'is_translator': False, 'profile_background_color': '000000', 'profile_background_image_url': 'http://abs.twimg.com/images/themes/theme1/bg.png', 'profile_background_image_url_https': 'https://abs.twimg.com/images/themes/theme1/bg.png', 'profile_background_tile': False, 'profile_link_color': '1B95E0', 'profile_sidebar_border_color': '000000', 'profile_sidebar_fill_color': '000000', 'profile_text_color': '000000', 'profile_use_background_image': False, 'profile_image_url': 'http://pbs.twimg.com/profile_images/1245501760518701057/zUWjkVz__normal.jpg', 'profile_image_url_https': 'https://pbs.twimg.com/profile_images/1245501760518701057/zUWjkVz__normal.jpg', 'profile_banner_url': 'https://pbs.twimg.com/profile_banners/988174833849634816/1585783589', 'default_profile': False, 'default_profile_image': False, 'following': None, 'follow_request_sent': None, 'notifications': None} \n",
      "\n",
      "TWEET\n",
      " id-- 1249403771261722624 text-- #Bo der Osterhase hat nicht Corona, er ist gekommen. \n",
      "\n",
      "User--  {'id': 1171484224244744198, 'id_str': '1171484224244744198', 'name': 'Elfpunkt', 'screen_name': 'meElfpunkt', 'location': None, 'url': None, 'description': 'Mal 1 mal 0 mal Tilt', 'translator_type': 'none', 'protected': False, 'verified': False, 'followers_count': 3, 'friends_count': 53, 'listed_count': 0, 'favourites_count': 72, 'statuses_count': 60, 'created_at': 'Tue Sep 10 18:03:17 +0000 2019', 'utc_offset': None, 'time_zone': None, 'geo_enabled': False, 'lang': None, 'contributors_enabled': False, 'is_translator': False, 'profile_background_color': 'F5F8FA', 'profile_background_image_url': '', 'profile_background_image_url_https': '', 'profile_background_tile': False, 'profile_link_color': '1DA1F2', 'profile_sidebar_border_color': 'C0DEED', 'profile_sidebar_fill_color': 'DDEEF6', 'profile_text_color': '333333', 'profile_use_background_image': True, 'profile_image_url': 'http://abs.twimg.com/sticky/default_profile_images/default_profile_normal.png', 'profile_image_url_https': 'https://abs.twimg.com/sticky/default_profile_images/default_profile_normal.png', 'default_profile': True, 'default_profile_image': False, 'following': None, 'follow_request_sent': None, 'notifications': None} \n",
      "\n"
     ]
    },
    {
     "name": "stdout",
     "output_type": "stream",
     "text": [
      "num of lines= 18518 num of tweets= 7356 num of retweets= 11162\n",
      "num of unique tweets/retweets= 18506\n"
     ]
    }
   ],
   "source": [
    "# this code block allows you to inspect 2 tweets and 2 retweets in the dataset\n",
    "# it also saves all the unique tweets/retweets in the dictionary tweets\n",
    "# this code will help you to understand the data\n",
    "# feel free to print out more fields\n",
    "\n",
    "lines=0\n",
    "num_tweets=0\n",
    "num_retweets=0\n",
    "print_tweet = 0\n",
    "print_retweet = 0\n",
    "tweets = {}\n",
    "\n",
    "#insert path and replace name of the file below as needed\n",
    "with open(\"corona-out-2\", \"r\") as f1:\n",
    "    for line in f1:\n",
    "        try:\n",
    "            data = json.loads(line)\n",
    "            lines = lines + 1\n",
    "            if ( data['text'].startswith('RT') ):\n",
    "                num_retweets += 1\n",
    "                #print out some fields of one retweet \n",
    "                #note that you should look at other fields too\n",
    "                if (print_retweet < 2):\n",
    "                    print_retweet += 1\n",
    "                    print('RETWEET\\n','id--',data['id'],'text--',data['text'],'\\n')\n",
    "                    \n",
    "                    print('User-- ',data['user'],'\\n')\n",
    "                  \n",
    "                    print('retweetstatus--',data['retweeted_status'],'\\n')\n",
    "                  \n",
    "\n",
    "            else:\n",
    "                num_tweets += 1\n",
    "                #print out some fields of one tweet \n",
    "                #note that you should look at other fields too\n",
    "                if (print_tweet < 2):\n",
    "                    print_tweet += 1\n",
    "                    print('TWEET\\n','id--',data['id'],'text--',data['text'],'\\n')\n",
    "                    print('User-- ',data['user'],'\\n')\n",
    "                    \n",
    "\n",
    "\n",
    "            if (data['id_str'] not in tweets):\n",
    "                tweets[data['id_str']] = data\n",
    "            \n",
    "        except:\n",
    "            # if there is an error loading the json of the tweet, skip\n",
    "            continue\n",
    "            \n",
    "print('num of lines=',lines, 'num of tweets=',num_tweets, 'num of retweets=',num_retweets)\n",
    "print('num of unique tweets/retweets=',len(tweets.keys()))"
   ]
  }
 ],
 "metadata": {
  "kernelspec": {
   "display_name": "Python 3 (ipykernel)",
   "language": "python",
   "name": "python3"
  },
  "language_info": {
   "codemirror_mode": {
    "name": "ipython",
    "version": 3
   },
   "file_extension": ".py",
   "mimetype": "text/x-python",
   "name": "python",
   "nbconvert_exporter": "python",
   "pygments_lexer": "ipython3",
   "version": "3.9.7"
  },
  "toc": {
   "base_numbering": 1,
   "nav_menu": {},
   "number_sections": true,
   "sideBar": true,
   "skip_h1_title": false,
   "title_cell": "Table of Contents",
   "title_sidebar": "Contents",
   "toc_cell": false,
   "toc_position": {},
   "toc_section_display": true,
   "toc_window_display": false
  }
 },
 "nbformat": 4,
 "nbformat_minor": 2
}
